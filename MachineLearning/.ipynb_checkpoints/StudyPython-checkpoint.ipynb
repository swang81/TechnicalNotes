{
 "cells": [
  {
   "cell_type": "markdown",
   "id": "337e0eb0-fc06-447f-b15c-664a0efb4acb",
   "metadata": {},
   "source": [
    "range函数的使用，注意范围"
   ]
  },
  {
   "cell_type": "code",
   "execution_count": 1,
   "id": "a97dd2bb-1996-4e2c-a5e0-3ef9bfcb8b85",
   "metadata": {},
   "outputs": [
    {
     "name": "stdout",
     "output_type": "stream",
     "text": [
      "1\n",
      "2\n",
      "3\n",
      "4\n",
      "5\n"
     ]
    }
   ],
   "source": [
    "for value in range(1,6):\n",
    "    print(value)"
   ]
  },
  {
   "cell_type": "markdown",
   "id": "33c830bd-bffc-4689-9ea3-62f33afd0b51",
   "metadata": {},
   "source": [
    "使用range函数可以创建list函数"
   ]
  },
  {
   "cell_type": "code",
   "execution_count": 2,
   "id": "d90e8c50-98ee-48fd-a801-3d1774ec2e93",
   "metadata": {},
   "outputs": [
    {
     "name": "stdout",
     "output_type": "stream",
     "text": [
      "[1, 2, 3, 4, 5]\n"
     ]
    }
   ],
   "source": [
    "numbers = list(range(1,6))\n",
    "print(numbers)"
   ]
  },
  {
   "cell_type": "code",
   "execution_count": 3,
   "id": "9a89a609-9ab7-42e6-94cb-e219c707e4af",
   "metadata": {},
   "outputs": [
    {
     "name": "stdout",
     "output_type": "stream",
     "text": [
      "[1, 3, 5]\n"
     ]
    }
   ],
   "source": [
    "numbers = list(range(1,6,2))\n",
    "print(numbers)"
   ]
  },
  {
   "cell_type": "markdown",
   "id": "1f9a0ddf-be20-45e2-aba8-5f2689179dd1",
   "metadata": {},
   "source": [
    "在squares的list数组中，放入square。"
   ]
  },
  {
   "cell_type": "code",
   "execution_count": 4,
   "id": "5a61d775-ff73-4f43-9eaf-715630b44058",
   "metadata": {},
   "outputs": [],
   "source": [
    "squares = []"
   ]
  },
  {
   "cell_type": "code",
   "execution_count": 5,
   "id": "752d67f0-7d87-4d71-acd2-4b4f6e901737",
   "metadata": {},
   "outputs": [
    {
     "data": {
      "text/plain": [
       "list"
      ]
     },
     "execution_count": 5,
     "metadata": {},
     "output_type": "execute_result"
    }
   ],
   "source": [
    "type(squares)"
   ]
  },
  {
   "cell_type": "code",
   "execution_count": 6,
   "id": "007c8f54-3768-4184-b339-875e4cce278a",
   "metadata": {},
   "outputs": [
    {
     "name": "stdout",
     "output_type": "stream",
     "text": [
      "[1, 4, 9, 16, 25, 36, 49, 64, 81, 100]\n"
     ]
    }
   ],
   "source": [
    "for value in range(1,11):\n",
    "    square = value**2\n",
    "    squares.append(square)\n",
    "print(squares)"
   ]
  },
  {
   "cell_type": "markdown",
   "id": "41b605fa-3e86-4fdb-9eaa-035a62cd1113",
   "metadata": {},
   "source": [
    "对数据列表中统计操作"
   ]
  },
  {
   "cell_type": "code",
   "execution_count": 7,
   "id": "a34a8ba9-7f86-406a-98db-d0db0e271021",
   "metadata": {},
   "outputs": [],
   "source": [
    "digits =[1,2,3,4,8,9,0]"
   ]
  },
  {
   "cell_type": "code",
   "execution_count": 8,
   "id": "0d1f6cce-badc-4b79-bfeb-d1826d402669",
   "metadata": {},
   "outputs": [
    {
     "data": {
      "text/plain": [
       "0"
      ]
     },
     "execution_count": 8,
     "metadata": {},
     "output_type": "execute_result"
    }
   ],
   "source": [
    "min(digits)"
   ]
  },
  {
   "cell_type": "code",
   "execution_count": 9,
   "id": "3b98c55b-cded-4caa-bd40-0965aebe791c",
   "metadata": {},
   "outputs": [
    {
     "data": {
      "text/plain": [
       "9"
      ]
     },
     "execution_count": 9,
     "metadata": {},
     "output_type": "execute_result"
    }
   ],
   "source": [
    "max(digits)"
   ]
  },
  {
   "cell_type": "code",
   "execution_count": 10,
   "id": "8eff58d6-a45b-4534-958f-ed650314b6fb",
   "metadata": {},
   "outputs": [
    {
     "data": {
      "text/plain": [
       "27"
      ]
     },
     "execution_count": 10,
     "metadata": {},
     "output_type": "execute_result"
    }
   ],
   "source": [
    "sum(digits)"
   ]
  },
  {
   "cell_type": "markdown",
   "id": "bcab94c2-c03f-4388-a77b-20f20db8a249",
   "metadata": {},
   "source": [
    "列表解析方法,可以通过一行代码生成列表"
   ]
  },
  {
   "cell_type": "code",
   "execution_count": 12,
   "id": "6d523acd-05fb-4cc1-8ae0-f6a66f565653",
   "metadata": {},
   "outputs": [
    {
     "name": "stdout",
     "output_type": "stream",
     "text": [
      "[1, 4, 9, 16, 25, 36, 49, 64, 81, 100]\n"
     ]
    }
   ],
   "source": [
    "squares =[value**2 for value in range(1,11)]\n",
    "print(squares)"
   ]
  },
  {
   "cell_type": "markdown",
   "id": "17697c72-5a6f-459d-9769-d9047cef5175",
   "metadata": {},
   "source": [
    "使用列表"
   ]
  },
  {
   "cell_type": "code",
   "execution_count": 18,
   "id": "a91e57ae-8359-4841-ae7f-74985ba88b6d",
   "metadata": {},
   "outputs": [],
   "source": [
    "players = ['charles','martina','floarence', 'eli','jack']"
   ]
  },
  {
   "cell_type": "code",
   "execution_count": 19,
   "id": "50fce161-d30a-444a-b1c2-d4a3051754eb",
   "metadata": {},
   "outputs": [
    {
     "name": "stdout",
     "output_type": "stream",
     "text": [
      "['charles', 'martina', 'floarence']\n"
     ]
    }
   ],
   "source": [
    "print(players[0:3])"
   ]
  },
  {
   "cell_type": "markdown",
   "id": "3657af7b-67a8-4cc5-972f-ad6c815621fd",
   "metadata": {},
   "source": [
    "结果不包括player[a:b],b的序号不被包括。"
   ]
  },
  {
   "cell_type": "code",
   "execution_count": 20,
   "id": "c1cef34e-775a-4f5f-9e45-bf95d78ced3a",
   "metadata": {},
   "outputs": [
    {
     "name": "stdout",
     "output_type": "stream",
     "text": [
      "['martina', 'floarence']\n"
     ]
    }
   ],
   "source": [
    "print(players[1:3])"
   ]
  },
  {
   "cell_type": "code",
   "execution_count": 21,
   "id": "40f4c180-787b-4533-a9bf-d3ca43bcf55e",
   "metadata": {},
   "outputs": [
    {
     "name": "stdout",
     "output_type": "stream",
     "text": [
      "['charles', 'martina', 'floarence']\n"
     ]
    }
   ],
   "source": [
    "print(players[:3])"
   ]
  },
  {
   "cell_type": "markdown",
   "id": "894aa6c8-9719-48eb-9c59-2c8b8acc7613",
   "metadata": {},
   "source": [
    "players[:b],没有a时，会从头开始。"
   ]
  },
  {
   "cell_type": "code",
   "execution_count": 22,
   "id": "1fe01668-576f-4e0c-a7f2-633acb167f85",
   "metadata": {},
   "outputs": [
    {
     "name": "stdout",
     "output_type": "stream",
     "text": [
      "['floarence', 'eli', 'jack']\n"
     ]
    }
   ],
   "source": [
    "print(players[2:])"
   ]
  },
  {
   "cell_type": "markdown",
   "id": "5a83d205-2876-40dd-8d39-dca95c20df0d",
   "metadata": {},
   "source": [
    "Players[a:],没有b时，会到结尾。"
   ]
  },
  {
   "cell_type": "code",
   "execution_count": 23,
   "id": "8f8ce362-5f15-4be4-9686-3bbd0e5b0daf",
   "metadata": {},
   "outputs": [
    {
     "name": "stdout",
     "output_type": "stream",
     "text": [
      "jack\n"
     ]
    }
   ],
   "source": [
    "print(players[-1])"
   ]
  },
  {
   "cell_type": "code",
   "execution_count": 25,
   "id": "d7640c63-4885-4aa1-af93-f5dc6e00c203",
   "metadata": {},
   "outputs": [
    {
     "name": "stdout",
     "output_type": "stream",
     "text": [
      "['martina', 'floarence', 'eli']\n"
     ]
    }
   ],
   "source": [
    "print(players[1:-1])"
   ]
  },
  {
   "cell_type": "code",
   "execution_count": 26,
   "id": "fceb587c-641f-4df0-a70e-14afbb53cc16",
   "metadata": {},
   "outputs": [
    {
     "name": "stdout",
     "output_type": "stream",
     "text": [
      "['charles', 'martina', 'floarence']\n"
     ]
    }
   ],
   "source": [
    "print(players[:-2])"
   ]
  },
  {
   "cell_type": "markdown",
   "id": "c165ac75-7bf7-4d35-8da3-f36eade8a9e9",
   "metadata": {},
   "source": [
    "最后三名队员"
   ]
  },
  {
   "cell_type": "code",
   "execution_count": 28,
   "id": "cda0550d-517b-4b91-a309-7a99c2f5fddd",
   "metadata": {},
   "outputs": [
    {
     "name": "stdout",
     "output_type": "stream",
     "text": [
      "['floarence', 'eli', 'jack']\n"
     ]
    }
   ],
   "source": [
    "print(players[-3:])"
   ]
  },
  {
   "cell_type": "markdown",
   "id": "18b966f2-6922-44e0-8d48-ecfd76e4a69f",
   "metadata": {},
   "source": [
    "遍历列表"
   ]
  },
  {
   "cell_type": "code",
   "execution_count": 29,
   "id": "76b69688-1894-48c2-b099-63b7f9dd8279",
   "metadata": {},
   "outputs": [
    {
     "name": "stdout",
     "output_type": "stream",
     "text": [
      "charles\n",
      "martina\n",
      "floarence\n"
     ]
    }
   ],
   "source": [
    "for player in players[:3]:\n",
    "    print(player)"
   ]
  },
  {
   "cell_type": "markdown",
   "id": "d17ec35e-5289-4bbc-884b-0ecf6e822f30",
   "metadata": {},
   "source": [
    "复制列表,需要加[:]"
   ]
  },
  {
   "cell_type": "code",
   "execution_count": 31,
   "id": "0594e6ca-257a-44aa-8f0a-1c2d84d4f812",
   "metadata": {},
   "outputs": [],
   "source": [
    "my_foods =['pizza', 'falafel','carrot cake']"
   ]
  },
  {
   "cell_type": "code",
   "execution_count": 32,
   "id": "748c68e1-d6f7-4c69-9cf8-98aa6b70fb60",
   "metadata": {},
   "outputs": [],
   "source": [
    "friend_foods = my_foods[:]"
   ]
  },
  {
   "cell_type": "code",
   "execution_count": 33,
   "id": "9a29b3ef-23d6-4311-8fe4-fc6ed76e2ab4",
   "metadata": {},
   "outputs": [
    {
     "name": "stdout",
     "output_type": "stream",
     "text": [
      "['pizza', 'falafel', 'carrot cake']\n"
     ]
    }
   ],
   "source": [
    "print(my_foods)"
   ]
  },
  {
   "cell_type": "code",
   "execution_count": 34,
   "id": "43c9cf87-9690-4986-888a-636a234dd2d5",
   "metadata": {},
   "outputs": [
    {
     "name": "stdout",
     "output_type": "stream",
     "text": [
      "['pizza', 'falafel', 'carrot cake']\n"
     ]
    }
   ],
   "source": [
    "print(friend_foods)"
   ]
  },
  {
   "cell_type": "markdown",
   "id": "4261bdba-d796-4858-bb74-1eee0c0c54f6",
   "metadata": {},
   "source": [
    "不可变的列表，叫元组,不能直接修改"
   ]
  },
  {
   "cell_type": "code",
   "execution_count": 35,
   "id": "f73717f3-54bd-4a56-9efa-32f9fdab064a",
   "metadata": {},
   "outputs": [],
   "source": [
    "dimensions =(200,50)"
   ]
  },
  {
   "cell_type": "code",
   "execution_count": 36,
   "id": "3d18f626-7b41-4e1e-8cd5-e16ddc542cf7",
   "metadata": {},
   "outputs": [
    {
     "name": "stdout",
     "output_type": "stream",
     "text": [
      "200\n",
      "50\n"
     ]
    }
   ],
   "source": [
    "for dimension in dimensions:\n",
    "    print(dimension)"
   ]
  },
  {
   "cell_type": "code",
   "execution_count": 37,
   "id": "5d9eee0e-f76f-44e7-bb16-dafc17c29112",
   "metadata": {},
   "outputs": [
    {
     "ename": "TypeError",
     "evalue": "'tuple' object does not support item assignment",
     "output_type": "error",
     "traceback": [
      "\u001b[1;31m---------------------------------------------------------------------------\u001b[0m",
      "\u001b[1;31mTypeError\u001b[0m                                 Traceback (most recent call last)",
      "Cell \u001b[1;32mIn[37], line 1\u001b[0m\n\u001b[1;32m----> 1\u001b[0m \u001b[43mdimensions\u001b[49m\u001b[43m[\u001b[49m\u001b[38;5;241;43m0\u001b[39;49m\u001b[43m]\u001b[49m \u001b[38;5;241m=\u001b[39m \u001b[38;5;241m100\u001b[39m\n",
      "\u001b[1;31mTypeError\u001b[0m: 'tuple' object does not support item assignment"
     ]
    }
   ],
   "source": [
    "dimensions[0] = 100"
   ]
  },
  {
   "cell_type": "markdown",
   "id": "7dfc882a-69bd-42b4-b8fd-c6ac4e0db5df",
   "metadata": {},
   "source": [
    "if语句"
   ]
  },
  {
   "cell_type": "code",
   "execution_count": 40,
   "id": "ebf3e3c5-a4e0-489d-bfb4-4932c76d4411",
   "metadata": {},
   "outputs": [],
   "source": [
    "cars = ['audi', 'bmw','subaru','toyota']"
   ]
  },
  {
   "cell_type": "code",
   "execution_count": 41,
   "id": "c7eac0a2-aad1-44f7-bf3b-647dd299e47b",
   "metadata": {},
   "outputs": [
    {
     "name": "stdout",
     "output_type": "stream",
     "text": [
      "Audi\n",
      "BMW\n",
      "Subaru\n",
      "Toyota\n"
     ]
    }
   ],
   "source": [
    "for car in cars:\n",
    "    if car =='bmw':\n",
    "        print (car.upper())\n",
    "    else:\n",
    "        print(car.title())"
   ]
  },
  {
   "cell_type": "markdown",
   "id": "526577ac-382e-4cc6-b6a0-2940b6396a26",
   "metadata": {},
   "source": [
    "条件检查"
   ]
  },
  {
   "cell_type": "code",
   "execution_count": 42,
   "id": "663c3ddf-4b0d-4476-ad9e-964cfa716eb6",
   "metadata": {},
   "outputs": [
    {
     "data": {
      "text/plain": [
       "False"
      ]
     },
     "execution_count": 42,
     "metadata": {},
     "output_type": "execute_result"
    }
   ],
   "source": [
    "car = 'Audi'\n",
    "car == 'audi'"
   ]
  },
  {
   "cell_type": "code",
   "execution_count": 43,
   "id": "816ce26f-498c-43dd-87ad-72a3e0c15b91",
   "metadata": {},
   "outputs": [
    {
     "data": {
      "text/plain": [
       "True"
      ]
     },
     "execution_count": 43,
     "metadata": {},
     "output_type": "execute_result"
    }
   ],
   "source": [
    "car.lower()== 'audi'"
   ]
  },
  {
   "cell_type": "code",
   "execution_count": 47,
   "id": "56318695-69d0-4c48-8a4a-25247c191c4c",
   "metadata": {},
   "outputs": [
    {
     "name": "stdout",
     "output_type": "stream",
     "text": [
      "False\n",
      "True\n"
     ]
    }
   ],
   "source": [
    "age_0 = 22\n",
    "age_1 = 18\n",
    "print(age_0 >= 21 and age_1 >=21)\n",
    "print(age_0 >= 21 or age_1 >=21)"
   ]
  },
  {
   "cell_type": "markdown",
   "id": "77ac00bb-d3d4-401d-8679-d0a0dbaa367d",
   "metadata": {},
   "source": [
    "检查特定值是否在/不在列表中,可以使用in和not in"
   ]
  },
  {
   "cell_type": "code",
   "execution_count": 48,
   "id": "00551325-d49b-4023-b92a-02fdc8f5f90e",
   "metadata": {},
   "outputs": [
    {
     "name": "stdout",
     "output_type": "stream",
     "text": [
      "True\n"
     ]
    }
   ],
   "source": [
    "requested_toppings = ['mushrooms','onions','pineapple']\n",
    "print('mushrooms' in requested_toppings)"
   ]
  },
  {
   "cell_type": "code",
   "execution_count": 50,
   "id": "be6f3281-4c1a-4d17-8596-3b6bd7e3e672",
   "metadata": {},
   "outputs": [
    {
     "name": "stdout",
     "output_type": "stream",
     "text": [
      "False\n"
     ]
    }
   ],
   "source": [
    "print('mushrooms' not in requested_toppings)"
   ]
  },
  {
   "cell_type": "markdown",
   "id": "315fd53f-11ed-4be2-8399-08c283d7298e",
   "metadata": {},
   "source": [
    "if语句"
   ]
  },
  {
   "cell_type": "code",
   "execution_count": 53,
   "id": "3c7e220c-d70a-4b79-9002-92303f19b6b2",
   "metadata": {},
   "outputs": [
    {
     "name": "stdout",
     "output_type": "stream",
     "text": [
      "you are old enough to vote\n"
     ]
    }
   ],
   "source": [
    "age = 19\n",
    "if age >=18:\n",
    "    print(\"you are old enough to vote\")"
   ]
  },
  {
   "cell_type": "code",
   "execution_count": 54,
   "id": "aa5cf125-aa39-4d44-aba8-435aa0dcc473",
   "metadata": {},
   "outputs": [
    {
     "name": "stdout",
     "output_type": "stream",
     "text": [
      "you are too young\n"
     ]
    }
   ],
   "source": [
    "age = 17\n",
    "if age>=18:\n",
    "    print (\"you are old enough to vote \")\n",
    "else:\n",
    "    print (\"you are too young\")"
   ]
  },
  {
   "cell_type": "code",
   "execution_count": 55,
   "id": "162ca32a-286d-4a34-8be2-01f7e310e6a7",
   "metadata": {},
   "outputs": [
    {
     "name": "stdout",
     "output_type": "stream",
     "text": [
      "your cost is $40\n"
     ]
    }
   ],
   "source": [
    "age =20\n",
    "if age < 4:\n",
    "    price = 0\n",
    "elif age <18:\n",
    "    price =25\n",
    "else:\n",
    "    price = 40\n",
    "\n",
    "print(f\"your cost is ${price}\")"
   ]
  },
  {
   "cell_type": "markdown",
   "id": "3e313b23-36b0-46dc-bd15-a153aecbc1d1",
   "metadata": {},
   "source": [
    "if...elif...else"
   ]
  },
  {
   "cell_type": "code",
   "execution_count": 59,
   "id": "b8f85b9a-6f25-4dce-bf53-e20e0ef57acc",
   "metadata": {},
   "outputs": [
    {
     "name": "stdout",
     "output_type": "stream",
     "text": [
      "your cost is $99\n"
     ]
    }
   ],
   "source": [
    "age1 =20\n",
    "if age1 < 4:\n",
    "    price1 = 0\n",
    "elif age1 <18:\n",
    "    price1 =25\n",
    "else:\n",
    "    price1 = 99\n",
    "\n",
    "print(f\"your cost is ${price1}\")"
   ]
  },
  {
   "cell_type": "markdown",
   "id": "07966962-805a-497b-90b5-66878647834d",
   "metadata": {},
   "source": [
    "检查列表"
   ]
  },
  {
   "cell_type": "code",
   "execution_count": 60,
   "id": "c21a57ed-e778-4c0d-bbf3-6408f532dd52",
   "metadata": {},
   "outputs": [],
   "source": [
    "alist = []"
   ]
  },
  {
   "cell_type": "code",
   "execution_count": 61,
   "id": "ecb9da50-89f9-4000-b53b-e970836659f9",
   "metadata": {},
   "outputs": [
    {
     "name": "stdout",
     "output_type": "stream",
     "text": [
      "empty list\n"
     ]
    }
   ],
   "source": [
    "if alist:\n",
    "    print(\"this is not a empty alist\")\n",
    "else:\n",
    "    print(\"empty list\")"
   ]
  },
  {
   "cell_type": "code",
   "execution_count": 62,
   "id": "2c033cde-bded-496f-93cc-152d5144192c",
   "metadata": {},
   "outputs": [
    {
     "name": "stdout",
     "output_type": "stream",
     "text": [
      "number is 999 and 1.0\n"
     ]
    }
   ],
   "source": [
    "a =999\n",
    "b =1.0\n",
    "print(f\"number is {a} and {b}\")"
   ]
  },
  {
   "cell_type": "markdown",
   "id": "4d604f7c-84a9-46a7-a791-3719440668ef",
   "metadata": {},
   "source": [
    "字典"
   ]
  },
  {
   "cell_type": "code",
   "execution_count": 67,
   "id": "6f43fad9-9875-43ff-bf22-2cab4e84808a",
   "metadata": {},
   "outputs": [
    {
     "name": "stdout",
     "output_type": "stream",
     "text": [
      "green\n"
     ]
    }
   ],
   "source": [
    "alien_0 = {'color': 'green', \"points\":5}\n",
    "print(alien_0[\"color\"])"
   ]
  },
  {
   "cell_type": "markdown",
   "id": "e8267326-28af-4c3c-b7e3-b5a3fabf8818",
   "metadata": {},
   "source": [
    "添加键值"
   ]
  },
  {
   "cell_type": "code",
   "execution_count": 69,
   "id": "1b95046d-2253-407d-8e52-6e9d5bb6e4aa",
   "metadata": {},
   "outputs": [
    {
     "name": "stdout",
     "output_type": "stream",
     "text": [
      "{'color': 'green', 'points': 5, 'x_position': 0, 'y_position': 100}\n"
     ]
    }
   ],
   "source": [
    "alien_0['x_position'] = 0\n",
    "alien_0[\"y_position\"] = 100\n",
    "print(alien_0)"
   ]
  },
  {
   "cell_type": "markdown",
   "id": "0b090acd-beab-49e0-ae0a-e33345c4d956",
   "metadata": {},
   "source": [
    "创建空字典"
   ]
  },
  {
   "cell_type": "code",
   "execution_count": 71,
   "id": "1743a580-12a2-473d-9d1d-f1ab347dd746",
   "metadata": {},
   "outputs": [
    {
     "name": "stdout",
     "output_type": "stream",
     "text": [
      "{'color': 'green', 'points': 5}\n"
     ]
    }
   ],
   "source": [
    "alien_0 = {}\n",
    "alien_0[\"color\"] = 'green'\n",
    "alien_0['points'] = 5\n",
    "print(alien_0)"
   ]
  },
  {
   "cell_type": "markdown",
   "id": "7d636d3f-9366-40c2-873b-5b9047250707",
   "metadata": {},
   "source": [
    "修改字典值"
   ]
  },
  {
   "cell_type": "code",
   "execution_count": 74,
   "id": "da51a26c-15c2-46b3-a894-350d457b36f0",
   "metadata": {},
   "outputs": [
    {
     "name": "stdout",
     "output_type": "stream",
     "text": [
      "{'color': 'yellow', 'points': 5}\n"
     ]
    }
   ],
   "source": [
    "alien_0[\"color\"] = \"yellow\"\n",
    "print( alien_0)"
   ]
  },
  {
   "cell_type": "markdown",
   "id": "e1448fc9-8143-463b-a244-d458e5286306",
   "metadata": {},
   "source": [
    "删除键值"
   ]
  },
  {
   "cell_type": "code",
   "execution_count": 75,
   "id": "2fd66521-1b44-4c01-a766-84419341e2dc",
   "metadata": {},
   "outputs": [
    {
     "name": "stdout",
     "output_type": "stream",
     "text": [
      "{'points': 5}\n"
     ]
    }
   ],
   "source": [
    "del alien_0['color']\n",
    "print(alien_0)"
   ]
  },
  {
   "cell_type": "markdown",
   "id": "85f798fa-cd5d-4fb6-8141-c991f6327c36",
   "metadata": {},
   "source": [
    "使用get()来访问值，如果没有对应的key值"
   ]
  },
  {
   "cell_type": "code",
   "execution_count": 76,
   "id": "cd8d1d90-8748-4db2-8c73-ec63b1c4e920",
   "metadata": {},
   "outputs": [
    {
     "data": {
      "text/plain": [
       "'no point value assigned'"
      ]
     },
     "execution_count": 76,
     "metadata": {},
     "output_type": "execute_result"
    }
   ],
   "source": [
    "alien_0.get('s', 'no point value assigned')"
   ]
  },
  {
   "cell_type": "code",
   "execution_count": 77,
   "id": "321120d0-ab33-47b6-ac37-336c836c09f6",
   "metadata": {},
   "outputs": [
    {
     "data": {
      "text/plain": [
       "5"
      ]
     },
     "execution_count": 77,
     "metadata": {},
     "output_type": "execute_result"
    }
   ],
   "source": [
    "alien_0.get('points', 'no point value assigned')"
   ]
  },
  {
   "cell_type": "markdown",
   "id": "78b9c5b1-cae0-4dc6-bc03-7333ca3f8aa3",
   "metadata": {},
   "source": [
    "遍历字典,\n",
    "遍历键-值"
   ]
  },
  {
   "cell_type": "code",
   "execution_count": 80,
   "id": "b3c4d4a2-4c13-47d2-9233-f61fcd679fa4",
   "metadata": {},
   "outputs": [
    {
     "name": "stdout",
     "output_type": "stream",
     "text": [
      "\n",
      "key: username\n",
      "value: efermi\n",
      "\n",
      "key: first\n",
      "value: enjrico\n",
      "\n",
      "key: last\n",
      "value: fermi\n"
     ]
    }
   ],
   "source": [
    "user_0 = {\n",
    "    'username' : 'efermi',\n",
    "    'first' : 'enjrico',\n",
    "    'last' : 'fermi',\n",
    "}\n",
    "for key, value in user_0.items():\n",
    "    print(f\"\\nkey: {key}\")\n",
    "    print(f\"value: {value }\" )"
   ]
  },
  {
   "cell_type": "markdown",
   "id": "e0e50bb3-9afb-4e57-8d1b-69ac49512d63",
   "metadata": {},
   "source": [
    "遍历键"
   ]
  },
  {
   "cell_type": "code",
   "execution_count": 82,
   "id": "226cd8a4-2a3f-41d8-83c8-28581aa8e074",
   "metadata": {},
   "outputs": [
    {
     "name": "stdout",
     "output_type": "stream",
     "text": [
      "username\n",
      "first\n",
      "last\n"
     ]
    }
   ],
   "source": [
    "for name in user_0.keys():\n",
    "    print(name)\n"
   ]
  },
  {
   "cell_type": "markdown",
   "id": "ebe113b5-850a-42c4-bd93-6d861359967a",
   "metadata": {},
   "source": [
    "按特定顺序遍历字典所有键, sorted()"
   ]
  },
  {
   "cell_type": "code",
   "execution_count": 84,
   "id": "6c89010c-1dcd-4e88-a9e1-c3eb021b3abf",
   "metadata": {},
   "outputs": [
    {
     "name": "stdout",
     "output_type": "stream",
     "text": [
      "Edward, ..\n",
      "Jen, ..\n",
      "Phil, ..\n",
      "Sarah, ..\n"
     ]
    }
   ],
   "source": [
    "favorite_language = {\n",
    "    'jen' : 'python',\n",
    "    'sarah' : 'c',\n",
    "    'edward' : 'ruby',\n",
    "    'phil' : 'python',\n",
    "}\n",
    "for name in sorted(favorite_language.keys()):\n",
    "    print(f\"{name.title()}, ..\")\n"
   ]
  },
  {
   "cell_type": "markdown",
   "id": "5a6fb5f8-b173-47ff-8588-005fb764c2c1",
   "metadata": {},
   "source": [
    "遍历字典的所有值"
   ]
  },
  {
   "cell_type": "code",
   "execution_count": 86,
   "id": "abf9fd17-30cf-4039-9a6a-6bcd88d22298",
   "metadata": {},
   "outputs": [
    {
     "name": "stdout",
     "output_type": "stream",
     "text": [
      "python\n",
      "c\n",
      "ruby\n",
      "python\n"
     ]
    }
   ],
   "source": [
    "for language in favorite_language.values():\n",
    "    print(language)"
   ]
  },
  {
   "cell_type": "markdown",
   "id": "4ab81989-a1d1-4652-a73b-1f584cc70556",
   "metadata": {},
   "source": [
    "剔除重复，可以使用set()"
   ]
  },
  {
   "cell_type": "code",
   "execution_count": 87,
   "id": "66be7295-1e6d-44b1-8ea6-bc4d27f9b133",
   "metadata": {},
   "outputs": [
    {
     "name": "stdout",
     "output_type": "stream",
     "text": [
      "c\n",
      "python\n",
      "ruby\n"
     ]
    }
   ],
   "source": [
    "for language in set(favorite_language.values()):\n",
    "    print(language)"
   ]
  },
  {
   "cell_type": "markdown",
   "id": "f0dc7a05-aa30-4b52-b9f1-4a60766e5a2c",
   "metadata": {},
   "source": [
    "字典列表"
   ]
  },
  {
   "cell_type": "code",
   "execution_count": 90,
   "id": "41f5e39f-97d3-4558-9b3a-67d975f233c4",
   "metadata": {},
   "outputs": [
    {
     "name": "stdout",
     "output_type": "stream",
     "text": [
      "{'color': 'green', 'points': 5}\n",
      "{'color': 'yellow', 'points': 10}\n",
      "{'color': 'red', 'points': 15}\n"
     ]
    }
   ],
   "source": [
    "alien_0 = {'color':'green', 'points': 5}\n",
    "alien_1 = {'color':'yellow','points':10}\n",
    "alien_2 = {'color':'red', 'points': 15}\n",
    "aliens = [alien_0, alien_1, alien_2]\n",
    "for alien in aliens:\n",
    "    print(alien)"
   ]
  },
  {
   "cell_type": "code",
   "execution_count": null,
   "id": "f90746a5-f493-4683-adac-a4a7f9a034bf",
   "metadata": {},
   "outputs": [],
   "source": []
  },
  {
   "cell_type": "code",
   "execution_count": null,
   "id": "f5dc0df6-1aa3-4652-b91c-75bd5f18dea1",
   "metadata": {},
   "outputs": [],
   "source": []
  },
  {
   "cell_type": "code",
   "execution_count": null,
   "id": "622a86af-3ad7-418d-b2d7-87f342d37313",
   "metadata": {},
   "outputs": [],
   "source": []
  },
  {
   "cell_type": "code",
   "execution_count": null,
   "id": "42b78fb0-bd47-494e-b590-9e829d4ee8f6",
   "metadata": {},
   "outputs": [],
   "source": []
  },
  {
   "cell_type": "code",
   "execution_count": null,
   "id": "1942d297-07c1-47c0-b1a1-bff273ac7b6b",
   "metadata": {},
   "outputs": [],
   "source": []
  },
  {
   "cell_type": "code",
   "execution_count": null,
   "id": "c43fcbcf-dad8-42d6-ae4b-aa1c1c3d8a36",
   "metadata": {},
   "outputs": [],
   "source": []
  },
  {
   "cell_type": "code",
   "execution_count": null,
   "id": "a296914f-4adb-4ada-9da4-5ce87c598444",
   "metadata": {},
   "outputs": [],
   "source": []
  },
  {
   "cell_type": "code",
   "execution_count": null,
   "id": "34c1937a-5a5d-43bf-8614-d64efc1ae834",
   "metadata": {},
   "outputs": [],
   "source": []
  }
 ],
 "metadata": {
  "kernelspec": {
   "display_name": "Python 3 (ipykernel)",
   "language": "python",
   "name": "python3"
  },
  "language_info": {
   "codemirror_mode": {
    "name": "ipython",
    "version": 3
   },
   "file_extension": ".py",
   "mimetype": "text/x-python",
   "name": "python",
   "nbconvert_exporter": "python",
   "pygments_lexer": "ipython3",
   "version": "3.9.20"
  }
 },
 "nbformat": 4,
 "nbformat_minor": 5
}
